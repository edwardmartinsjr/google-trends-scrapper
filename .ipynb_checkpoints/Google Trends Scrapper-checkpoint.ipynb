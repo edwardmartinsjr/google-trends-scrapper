{
 "cells": [
  {
   "cell_type": "markdown",
   "metadata": {},
   "source": [
    "# Data mining based on Google trends"
   ]
  },
  {
   "cell_type": "markdown",
   "metadata": {},
   "source": [
    "Considerations\n",
    "====================\n",
    "\n",
    "\n",
    "### Data mining and Google trends\n",
    "- This notebook demonstrates how to mining data based on a google trends exploration.\n",
    "- This is useful for automating the data gathering process, considering that it is possible to save the information obtained on the web, rather than simply viewing it."
   ]
  },
  {
   "cell_type": "markdown",
   "metadata": {},
   "source": [
    "###  Libraries:\n",
    "- selenium: open a browser (webdriver - http://chromedriver.chromium.org/downloads) and do the automation of actions such as clicks, scrolls, ect ...\n",
    "- pandas: we will need to work with dataframes.\n",
    "- seaborn: plotting and styling the graphs.\n",
    "- matplotlib: plotting charts.\n",
    "- time: sometimes we need to give a short wait between actions.\n",
    "- os: library to access local files and folders."
   ]
  },
  {
   "cell_type": "code",
   "execution_count": 4,
   "metadata": {},
   "outputs": [],
   "source": [
    "# pip install selenium --user\n",
    "from selenium import webdriver\n",
    "\n",
    "from selenium.webdriver.support.ui import WebDriverWait\n",
    "from selenium.webdriver.support import expected_conditions as EC\n",
    "\n",
    "import pandas as pd \n",
    "import seaborn as sns\n",
    "import matplotlib.pyplot as plt\n",
    "import numpy as np\n",
    "\n",
    "import time\n",
    "import os\n",
    "\n",
    "sns.set()\n",
    "%matplotlib inline"
   ]
  },
  {
   "cell_type": "code",
   "execution_count": 11,
   "metadata": {},
   "outputs": [],
   "source": [
    "# request the term to be searched\n",
    "def inquiry():\n",
    "    \n",
    "    inquiry=str(input(\"Input the term to be searched... \\n\"))\n",
    "    term_input = '%20'.join(inquiry.split())\n",
    "    \n",
    "    return term_input, inquiry "
   ]
  },
  {
   "cell_type": "code",
   "execution_count": 13,
   "metadata": {},
   "outputs": [
    {
     "name": "stdout",
     "output_type": "stream",
     "text": [
      "Input the term to be searched... \n",
      "data sciencce\n"
     ]
    }
   ],
   "source": [
    "# acquire the term\n",
    "termo,pesquisa = inquiry()"
   ]
  },
  {
   "cell_type": "code",
   "execution_count": null,
   "metadata": {},
   "outputs": [],
   "source": []
  }
 ],
 "metadata": {
  "kernelspec": {
   "display_name": "Python 3",
   "language": "python",
   "name": "python3"
  },
  "language_info": {
   "codemirror_mode": {
    "name": "ipython",
    "version": 3
   },
   "file_extension": ".py",
   "mimetype": "text/x-python",
   "name": "python",
   "nbconvert_exporter": "python",
   "pygments_lexer": "ipython3",
   "version": "3.6.5"
  }
 },
 "nbformat": 4,
 "nbformat_minor": 2
}
