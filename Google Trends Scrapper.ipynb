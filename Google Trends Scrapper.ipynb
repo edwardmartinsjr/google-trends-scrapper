{
 "cells": [
  {
   "cell_type": "markdown",
   "metadata": {},
   "source": [
    "# Data mining based on Google trends"
   ]
  },
  {
   "cell_type": "markdown",
   "metadata": {},
   "source": [
    "Considerations\n",
    "====================\n",
    "\n",
    "\n",
    "### Data mining and Google trends\n",
    "- This notebook demonstrates how to mining data based on a google trends exploration.\n",
    "- This is useful for automating the data gathering process, considering that it is possible to save the information obtained on the web, rather than simply viewing it."
   ]
  },
  {
   "cell_type": "markdown",
   "metadata": {},
   "source": [
    "###  Libraries:\n",
    "- selenium: open a browser (webdriver - http://chromedriver.chromium.org/downloads) and do the automation of actions such as clicks, scrolls, ect ...\n",
    "- pandas: we will need to work with dataframes.\n",
    "- seaborn: plotting and styling the graphs.\n",
    "- matplotlib: plotting charts.\n",
    "- time: sometimes we need to give a short wait between actions.\n",
    "- os: library to access local files and folders."
   ]
  },
  {
   "cell_type": "code",
   "execution_count": 4,
   "metadata": {},
   "outputs": [],
   "source": [
    "# pip install selenium --user\n",
    "from selenium import webdriver\n",
    "\n",
    "from selenium.webdriver.support.ui import WebDriverWait\n",
    "from selenium.webdriver.support import expected_conditions as EC\n",
    "\n",
    "import pandas as pd \n",
    "import seaborn as sns\n",
    "import matplotlib.pyplot as plt\n",
    "import numpy as np\n",
    "\n",
    "import time\n",
    "import os\n",
    "\n",
    "sns.set()\n",
    "%matplotlib inline"
   ]
  },
  {
   "cell_type": "code",
   "execution_count": 14,
   "metadata": {},
   "outputs": [],
   "source": [
    "# request the term to be searched\n",
    "def inquiry():\n",
    "    \n",
    "    inquiry=str(input(\"Input the term to be searched... \\n\"))\n",
    "    \n",
    "    # split transforms a string into a list of terms present in that string,\n",
    "    term_input = '%20'.join(inquiry.split())\n",
    "    \n",
    "    return term_input, inquiry "
   ]
  },
  {
   "cell_type": "code",
   "execution_count": 15,
   "metadata": {},
   "outputs": [
    {
     "name": "stdout",
     "output_type": "stream",
     "text": [
      "Input the term to be searched... \n",
      "data science\n"
     ]
    }
   ],
   "source": [
    "# acquire the term\n",
    "termo,pesquisa = inquiry()"
   ]
  },
  {
   "cell_type": "markdown",
   "metadata": {},
   "source": [
    "> This function receives a folder and returns the path of the most recent file within this folder. \n",
    "> We will use it to acquire the csv files downloaded in our chromedriver. \n",
    "> Use this to avoid a dependency on file names. \n",
    "> So every time when download a csv, the next step is to save this file to a dataframe."
   ]
  },
  {
   "cell_type": "code",
   "execution_count": 16,
   "metadata": {},
   "outputs": [],
   "source": [
    "# function that returns the most recent file on a page\n",
    "def recent_file(path):\n",
    "    files = os.listdir(path) # list the name of the files in the folder\n",
    "    paths = [os.path.join(path, name) for name in files] # returns the full path of each file\n",
    "\n",
    "    return max(paths, key=os.path.getctime) #returns the path of the most recent file in the folder"
   ]
  },
  {
   "cell_type": "code",
   "execution_count": null,
   "metadata": {},
   "outputs": [],
   "source": []
  }
 ],
 "metadata": {
  "kernelspec": {
   "display_name": "Python 3",
   "language": "python",
   "name": "python3"
  },
  "language_info": {
   "codemirror_mode": {
    "name": "ipython",
    "version": 3
   },
   "file_extension": ".py",
   "mimetype": "text/x-python",
   "name": "python",
   "nbconvert_exporter": "python",
   "pygments_lexer": "ipython3",
   "version": "3.6.5"
  }
 },
 "nbformat": 4,
 "nbformat_minor": 2
}
